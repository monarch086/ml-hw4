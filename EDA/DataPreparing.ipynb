{
 "cells": [
  {
   "cell_type": "code",
   "execution_count": 1,
   "id": "8e39e67b-e6db-43de-a498-25bf07e301d3",
   "metadata": {},
   "outputs": [
    {
     "name": "stderr",
     "output_type": "stream",
     "text": [
      "WARNING: You are using pip version 21.1.2; however, version 23.3.1 is available.\n",
      "You should consider upgrading via the 'C:\\Users\\Kyrylo_Polinchuk\\Python\\Kyrylo\\venv\\Scripts\\python.exe -m pip install --upgrade pip' command.\n"
     ]
    },
    {
     "name": "stdout",
     "output_type": "stream",
     "text": [
      "Requirement already satisfied: nltk in c:\\users\\kyrylo_polinchuk\\python\\kyrylo\\venv\\lib\\site-packages (3.8.1)\n",
      "Requirement already satisfied: regex>=2021.8.3 in c:\\users\\kyrylo_polinchuk\\python\\kyrylo\\venv\\lib\\site-packages (from nltk) (2023.10.3)\n",
      "Requirement already satisfied: joblib in c:\\users\\kyrylo_polinchuk\\python\\kyrylo\\venv\\lib\\site-packages (from nltk) (1.3.2)\n",
      "Requirement already satisfied: tqdm in c:\\users\\kyrylo_polinchuk\\python\\kyrylo\\venv\\lib\\site-packages (from nltk) (4.66.1)\n",
      "Requirement already satisfied: click in c:\\users\\kyrylo_polinchuk\\python\\kyrylo\\venv\\lib\\site-packages (from nltk) (8.1.7)\n",
      "Requirement already satisfied: colorama in c:\\users\\kyrylo_polinchuk\\python\\kyrylo\\venv\\lib\\site-packages (from click->nltk) (0.4.6)\n"
     ]
    }
   ],
   "source": [
    "!pip install nltk\n",
    "import pandas as pd\n",
    "import matplotlib.pyplot as plt\n",
    "import nltk\n",
    "import os\n",
    "import time\n",
    "from nltk.tokenize import word_tokenize\n",
    "from nltk.corpus import words\n",
    "import sys"
   ]
  },
  {
   "cell_type": "code",
   "execution_count": 2,
   "id": "1d93bcb3-2d5c-4ed2-9c0f-26f9b44677d9",
   "metadata": {},
   "outputs": [],
   "source": [
    "root_project_dir = os.path.abspath(os.path.join(os.getcwd(), '..'))\n",
    "path_from_root_to_notebook = os.path.relpath(os.getcwd(), root_project_dir)\n",
    "parent_directory = os.path.dirname(os.getcwd())\n",
    "src_directory = os.path.join(parent_directory, 'src')\n",
    "sys.path.append(src_directory)\n",
    "from source import clean_text, process_text"
   ]
  },
  {
   "cell_type": "code",
   "execution_count": 3,
   "id": "b10f5ce5-19c0-409d-ad07-f851ee20ba84",
   "metadata": {},
   "outputs": [
    {
     "name": "stdout",
     "output_type": "stream",
     "text": [
      "Number of samples in the train dataset: 159571\n",
      "Number of samples in the test dataset: 63978\n"
     ]
    }
   ],
   "source": [
    "train_data = pd.read_csv('train.csv')\n",
    "test_data = pd.read_csv('test.csv')\n",
    "train_data = pd.read_csv('train.csv')\n",
    "test_data = pd.read_csv('test.csv')\n",
    "num_samples_train = train_data.shape[0]\n",
    "num_samples_test = test_data.shape[0]\n",
    "print(\"Number of samples in the train dataset:\", num_samples_train)\n",
    "print(\"Number of samples in the test dataset:\", num_samples_test)"
   ]
  },
  {
   "cell_type": "code",
   "execution_count": 4,
   "id": "3771e234-af99-4be4-9f40-7a280db88d05",
   "metadata": {},
   "outputs": [
    {
     "name": "stdout",
     "output_type": "stream",
     "text": [
      "0         the made under my fan were werent just closure...\n",
      "1         this background colour seemingly stuck with ta...\n",
      "2         man really not trying to edit war just that th...\n",
      "3         i cant make any real on improvement i if the s...\n",
      "4         sir are my hero chance you remember what page ...\n",
      "                                ...                        \n",
      "159566    for the second time of when your view complete...\n",
      "159567    should be ashamed of yourself is a horrible th...\n",
      "159568       theres no actual article for prostitution ring\n",
      "159569    it like it was actually you who put on the spe...\n",
      "159570    i really dont think you understand i came here...\n",
      "Name: cleaned_text, Length: 159571, dtype: object\n"
     ]
    }
   ],
   "source": [
    "train_data['cleaned_text'] = train_data['comment_text'].apply(clean_text)\n",
    "print(train_data['cleaned_text'])"
   ]
  },
  {
   "cell_type": "code",
   "execution_count": 5,
   "id": "ee847d4f-4f0c-4ca4-8158-9037ba47c519",
   "metadata": {},
   "outputs": [],
   "source": [
    "test_data['cleaned_text'] = test_data['comment_text'].apply(clean_text)"
   ]
  },
  {
   "cell_type": "code",
   "execution_count": 6,
   "id": "58b7afa5-5fa1-40b6-84a4-11787c612057",
   "metadata": {},
   "outputs": [],
   "source": [
    "train_data['processed_text'] = train_data['cleaned_text'].apply(process_text)\n",
    "test_data['processed_text'] = test_data['cleaned_text'].apply(process_text)"
   ]
  },
  {
   "cell_type": "code",
   "execution_count": 7,
   "id": "0f9792e7-0fff-4eb1-8a63-d44f24eb1ebf",
   "metadata": {},
   "outputs": [
    {
     "name": "stdout",
     "output_type": "stream",
     "text": [
      "0         Explanation\\nWhy the edits made under my usern...\n",
      "1         D'aww! He matches this background colour I'm s...\n",
      "2         Hey man, I'm really not trying to edit war. It...\n",
      "3         \"\\nMore\\nI can't make any real suggestions on ...\n",
      "4         You, sir, are my hero. Any chance you remember...\n",
      "                                ...                        \n",
      "159566    \":::::And for the second time of asking, when ...\n",
      "159567    You should be ashamed of yourself \\n\\nThat is ...\n",
      "159568    Spitzer \\n\\nUmm, theres no actual article for ...\n",
      "159569    And it looks like it was actually you who put ...\n",
      "159570    \"\\nAnd ... I really don't think you understand...\n",
      "Name: comment_text, Length: 159571, dtype: object\n"
     ]
    }
   ],
   "source": [
    "print(train_data['comment_text'])"
   ]
  },
  {
   "cell_type": "code",
   "execution_count": 8,
   "id": "33053f46-de1c-4305-9630-5e6501fa4171",
   "metadata": {},
   "outputs": [
    {
     "name": "stdout",
     "output_type": "stream",
     "text": [
      "0         the made under my fan were werent just closure...\n",
      "1         this background colour seemingly stuck with ta...\n",
      "2         man really not trying to edit war just that th...\n",
      "3         i cant make any real on improvement i if the s...\n",
      "4         sir are my hero chance you remember what page ...\n",
      "                                ...                        \n",
      "159566    for the second time of when your view complete...\n",
      "159567    should be ashamed of yourself is a horrible th...\n",
      "159568       theres no actual article for prostitution ring\n",
      "159569    it like it was actually you who put on the spe...\n",
      "159570    i really dont think you understand i came here...\n",
      "Name: processed_text, Length: 159571, dtype: object\n"
     ]
    }
   ],
   "source": [
    "print(train_data['processed_text'])"
   ]
  },
  {
   "cell_type": "code",
   "execution_count": 9,
   "id": "d26a4eb1-5cfd-4ef2-8c4d-45b6c9815281",
   "metadata": {},
   "outputs": [
    {
     "name": "stdout",
     "output_type": "stream",
     "text": [
      "0        Thank you for understanding. I think very high...\n",
      "1                         :Dear god this site is horrible.\n",
      "2        \"::: Somebody will invariably try to add Relig...\n",
      "3        \" \\n\\n It says it right there that it IS a typ...\n",
      "4        \" \\n\\n == Before adding a new product to the l...\n",
      "                               ...                        \n",
      "63973    :Jerome, I see you never got around to this…! ...\n",
      "63974    ==Lucky bastard== \\n http://wikimediafoundatio...\n",
      "63975    ==shame on you all!!!== \\n\\n You want to speak...\n",
      "63976    MEL GIBSON IS A NAZI BITCH WHO MAKES SHITTY MO...\n",
      "63977    \" \\n\\n == Unicorn lair discovery == \\n\\n Suppo...\n",
      "Name: comment_text, Length: 63978, dtype: object\n"
     ]
    }
   ],
   "source": [
    "print(test_data['comment_text'])"
   ]
  },
  {
   "cell_type": "code",
   "execution_count": 10,
   "id": "b6d452a6-6362-40b0-a2db-6e0f57063109",
   "metadata": {},
   "outputs": [
    {
     "name": "stdout",
     "output_type": "stream",
     "text": [
      "0        you for understanding i think very highly of y...\n",
      "1                                god this site is horrible\n",
      "2        will invariably try to add mean the way people...\n",
      "3        it right there that it a type the of instituti...\n",
      "4        a new product to the list make sure its releva...\n",
      "                               ...                        \n",
      "63973    jerome i see you never got around to this i m ...\n",
      "63974               bastard you are famous now i envy that\n",
      "63975    shame on you all want to speak about and not a...\n",
      "63976                                                  a a\n",
      "63977    lair discovery a unicorn lair been discovered ...\n",
      "Name: processed_text, Length: 63978, dtype: object\n"
     ]
    }
   ],
   "source": [
    "print(test_data['processed_text'])"
   ]
  },
  {
   "cell_type": "code",
   "execution_count": 11,
   "id": "8962d3db-8615-43ec-b42a-67af23894457",
   "metadata": {},
   "outputs": [],
   "source": [
    "train_data.drop(columns=['comment_text', 'cleaned_text'], inplace=True)"
   ]
  },
  {
   "cell_type": "code",
   "execution_count": 12,
   "id": "ba35b80a-02c8-481d-adeb-0251b4e3b827",
   "metadata": {},
   "outputs": [],
   "source": [
    "test_data.drop(columns=['comment_text', 'cleaned_text'], inplace=True)"
   ]
  },
  {
   "cell_type": "code",
   "execution_count": 13,
   "id": "409f6dd3-93b2-40b2-af4f-8db4d4b06de3",
   "metadata": {},
   "outputs": [],
   "source": [
    "csv_file_path = 'train_processed.csv'\n",
    "train_data.to_csv(csv_file_path, index=False, mode='w')"
   ]
  },
  {
   "cell_type": "code",
   "execution_count": 14,
   "id": "dd4ad8cf-cc50-49ba-9977-883c74f3bdd6",
   "metadata": {},
   "outputs": [],
   "source": [
    "csv_file_path = 'test_processed.csv'\n",
    "test_data.to_csv(csv_file_path, index=False, mode='w')"
   ]
  }
 ],
 "metadata": {
  "kernelspec": {
   "display_name": "Python 3 (ipykernel)",
   "language": "python",
   "name": "python3"
  },
  "language_info": {
   "codemirror_mode": {
    "name": "ipython",
    "version": 3
   },
   "file_extension": ".py",
   "mimetype": "text/x-python",
   "name": "python",
   "nbconvert_exporter": "python",
   "pygments_lexer": "ipython3",
   "version": "3.10.8"
  }
 },
 "nbformat": 4,
 "nbformat_minor": 5
}
